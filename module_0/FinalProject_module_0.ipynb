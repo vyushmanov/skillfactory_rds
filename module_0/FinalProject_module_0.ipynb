{
 "cells": [
  {
   "cell_type": "code",
   "execution_count": 1,
   "metadata": {},
   "outputs": [
    {
     "name": "stdout",
     "output_type": "stream",
     "text": [
      "Загадано число от 1 до 99\n",
      "50\n",
      "Угадываемое число меньше 50 \n",
      "25\n",
      "Угадываемое число меньше 25 \n",
      "12\n",
      "Угадываемое число больше 12 \n",
      "18\n",
      "Угадываемое число меньше 18 \n",
      "15\n",
      "Вы угадали число 15 за 5 попыток.\n"
     ]
    }
   ],
   "source": [
    "import numpy as np\n",
    "\n",
    "count = 0                            # счетчик попыток\n",
    "number = np.random.randint(1,100)    # загадали число\n",
    "print (\"Загадано число от 1 до 99\")\n",
    "\n",
    "while True:                        # бесконечный цикл\n",
    "    predict = int(input())         # предполагаемое число\n",
    "    count += 1                     # плюсуем попытку\n",
    "    if number == predict: break    # выход из цикла, если угадали\n",
    "    elif number > predict: print (f\"Угадываемое число больше {predict} \")\n",
    "    elif number < predict: print (f\"Угадываемое число меньше {predict} \")\n",
    "        \n",
    "print (f\"Вы угадали число {number} за {count} попыток.\")"
   ]
  },
  {
   "cell_type": "code",
   "execution_count": null,
   "metadata": {},
   "outputs": [],
   "source": []
  }
 ],
 "metadata": {
  "kernelspec": {
   "display_name": "Python 3",
   "language": "python",
   "name": "python3"
  },
  "language_info": {
   "codemirror_mode": {
    "name": "ipython",
    "version": 3
   },
   "file_extension": ".py",
   "mimetype": "text/x-python",
   "name": "python",
   "nbconvert_exporter": "python",
   "pygments_lexer": "ipython3",
   "version": "3.7.4"
  }
 },
 "nbformat": 4,
 "nbformat_minor": 2
}
